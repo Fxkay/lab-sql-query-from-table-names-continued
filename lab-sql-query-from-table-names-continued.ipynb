{
 "cells": [
  {
   "cell_type": "markdown",
   "id": "7d930c89-4954-4e39-be5a-601c1dd89512",
   "metadata": {
    "id": "7d930c89-4954-4e39-be5a-601c1dd89512"
   },
   "source": [
    "# SQL query from table names - Continued"
   ]
  },
  {
   "cell_type": "code",
   "execution_count": 11,
   "id": "a03f026a",
   "metadata": {
    "id": "a03f026a"
   },
   "outputs": [],
   "source": [
    "from openai import OpenAI\n",
    "import os\n",
    "from dotenv import load_dotenv, find_dotenv\n",
    "_ = load_dotenv(find_dotenv())\n",
    "\n",
    "OPENAI_API_KEY  = os.getenv('OPENAI_API_KEY')"
   ]
  },
  {
   "cell_type": "markdown",
   "id": "53a05b80-88fd-42b2-ba89-763074ae74e9",
   "metadata": {
    "id": "53a05b80-88fd-42b2-ba89-763074ae74e9"
   },
   "source": [
    "## The old Prompt"
   ]
  },
  {
   "cell_type": "code",
   "execution_count": 14,
   "id": "922f8d24",
   "metadata": {
    "id": "922f8d24"
   },
   "outputs": [],
   "source": [
    "#The old prompt\n",
    "old_context = [ {'role':'system', 'content':\"\"\"\n",
    "you are a bot to assist in create SQL commands, all your answers should start with \\\n",
    "this is your SQL, and after that an SQL that can do what the user request. \\\n",
    "Your Database is composed by a SQL database with some tables. \\\n",
    "Try to maintain the SQL order simple.\n",
    "Put the SQL command in white letters with a black background, and just after \\\n",
    "a simple and concise text explaining how it works.\n",
    "If the user ask for something that can not be solved with an SQL Order \\\n",
    "just answer something nice and simple, maximum 10 words, asking him for something that \\\n",
    "can be solved with SQL.\n",
    "\"\"\"} ]\n",
    "\n",
    "old_context.append( {'role':'system', 'content':\"\"\"\n",
    "first table:\n",
    "{\n",
    "  \"tableName\": \"employees\",\n",
    "  \"fields\": [\n",
    "    {\n",
    "      \"nombre\": \"ID_usr\",\n",
    "      \"tipo\": \"int\"\n",
    "    },\n",
    "    {\n",
    "      \"nombre\": \"name\",\n",
    "      \"tipo\": \"varchar\"\n",
    "    }\n",
    "  ]\n",
    "}\n",
    "\"\"\"\n",
    "})\n",
    "\n",
    "old_context.append( {'role':'system', 'content':\"\"\"\n",
    "second table:\n",
    "{\n",
    "  \"tableName\": \"salary\",\n",
    "  \"fields\": [\n",
    "    {\n",
    "      \"nombre\": \"ID_usr\",\n",
    "      \"type\": \"int\"\n",
    "    },\n",
    "    {\n",
    "      \"name\": \"year\",\n",
    "      \"type\": \"date\"\n",
    "    },\n",
    "    {\n",
    "      \"name\": \"salary\",\n",
    "      \"type\": \"float\"\n",
    "    }\n",
    "  ]\n",
    "}\n",
    "\"\"\"\n",
    "})\n",
    "\n",
    "old_context.append( {'role':'system', 'content':\"\"\"\n",
    "third table:\n",
    "{\n",
    "  \"tablename\": \"studies\",\n",
    "  \"fields\": [\n",
    "    {\n",
    "      \"name\": \"ID\",\n",
    "      \"type\": \"int\"\n",
    "    },\n",
    "    {\n",
    "      \"name\": \"ID_usr\",\n",
    "      \"type\": \"int\"\n",
    "    },\n",
    "    {\n",
    "      \"name\": \"educational_level\",\n",
    "      \"type\": \"int\"\n",
    "    },\n",
    "    {\n",
    "      \"name\": \"Institution\",\n",
    "      \"type\": \"varchar\"\n",
    "    },\n",
    "    {\n",
    "      \"name\": \"Years\",\n",
    "      \"type\": \"date\"\n",
    "    }\n",
    "    {\n",
    "      \"name\": \"Speciality\",\n",
    "      \"type\": \"varchar\"\n",
    "    }\n",
    "  ]\n",
    "}\n",
    "\"\"\"\n",
    "})"
   ]
  },
  {
   "cell_type": "markdown",
   "id": "377acaae-7dd0-4d13-bc68-9e33741c231c",
   "metadata": {
    "id": "377acaae-7dd0-4d13-bc68-9e33741c231c"
   },
   "source": [
    "## New Prompt.\n",
    "We are going to improve it following the instructions of a Paper from the Ohaio University: [How to Prompt LLMs for Text-to-SQL: A Study in Zero-shot, Single-domain, and Cross-domain Settings](https://arxiv.org/abs/2305.11853). I recommend you read that paper.\n",
    "\n",
    "For each table, we will define the structure using the same syntax as in a SQL create table command, and add the sample rows of the content.\n",
    "\n",
    "Finally, at the end of the prompt, we'll include some example queries with the SQL that the model should generate. This technique is called Few-Shot Samples, in which we provide the prompt with some examples to assist it in generating the correct SQL.\n"
   ]
  },
  {
   "cell_type": "code",
   "execution_count": 4,
   "id": "5334f942",
   "metadata": {
    "id": "5334f942"
   },
   "outputs": [],
   "source": [
    "context = [ {'role':'system', 'content':\"\"\"\n",
    " CREATE SEVERAL (3+) TABLES HERE\n",
    "\"\"\"} ]\n",
    "\n"
   ]
  },
  {
   "cell_type": "code",
   "execution_count": 5,
   "id": "330e69b0-3f5f-4bb2-8185-aedded2bb993",
   "metadata": {
    "id": "330e69b0-3f5f-4bb2-8185-aedded2bb993"
   },
   "outputs": [],
   "source": [
    "#FEW SHOT SAMPLES\n",
    "context.append( {'role':'system', 'content':\"\"\"\n",
    " -- Maintain the SQL order simple and efficient as you can, using valid SQL Lite, answer the following questions for the table provided above.\n",
    "WRITE IN YOUR CONTEXT QUERIES HERE\n",
    "\"\"\"\n",
    "})"
   ]
  },
  {
   "cell_type": "code",
   "execution_count": 6,
   "id": "b90f417a",
   "metadata": {
    "id": "b90f417a"
   },
   "outputs": [],
   "source": [
    "#Functio to call the model.\n",
    "def return_CCRMSQL(user_message, context):\n",
    "    client = OpenAI(\n",
    "    # This is the default and can be omitted\n",
    "    api_key=OPENAI_API_KEY,\n",
    ")\n",
    "\n",
    "    newcontext = context.copy()\n",
    "    newcontext.append({'role':'user', 'content':\"question: \" + user_message})\n",
    "\n",
    "    response = client.chat.completions.create(\n",
    "            model=\"gpt-3.5-turbo\",\n",
    "            messages=newcontext,\n",
    "            temperature=0,\n",
    "        )\n",
    "\n",
    "    return (response.choices[0].message.content)"
   ]
  },
  {
   "cell_type": "markdown",
   "id": "9e0a4c11-dfe1-46fe-ac2b-3ff825f9749c",
   "metadata": {
    "id": "9e0a4c11-dfe1-46fe-ac2b-3ff825f9749c"
   },
   "source": [
    "## NL2SQL Samples\n",
    "We're going to review some examples generated with the old prompt and others with the new prompt."
   ]
  },
  {
   "cell_type": "code",
   "execution_count": 17,
   "id": "59e8202c-ce34-487e-9037-c65a263423ed",
   "metadata": {
    "colab": {
     "base_uri": "https://localhost:8080/"
    },
    "id": "59e8202c-ce34-487e-9037-c65a263423ed",
    "outputId": "f7a97b9f-45d7-4f78-8979-a796c5bc42fb"
   },
   "outputs": [
    {
     "name": "stdout",
     "output_type": "stream",
     "text": [
      "```sql\n",
      "SELECT * FROM users;\n",
      "```\n"
     ]
    }
   ],
   "source": [
    "#new\n",
    "context_user = context.copy()\n",
    "print(return_CCRMSQL(\"\"\"show all users\"\"\", context_user))"
   ]
  },
  {
   "cell_type": "code",
   "execution_count": 30,
   "id": "9c4766b1-48a9-456e-bc6c-4b6f41909aa4",
   "metadata": {
    "colab": {
     "base_uri": "https://localhost:8080/"
    },
    "id": "9c4766b1-48a9-456e-bc6c-4b6f41909aa4",
    "outputId": "029844da-5f1f-4f65-9adb-4d9c1cafacea"
   },
   "outputs": [
    {
     "name": "stdout",
     "output_type": "stream",
     "text": [
      "This is your SQL:\n",
      "```sql\n",
      "SELECT * FROM employees;\n",
      "```\n",
      "This SQL command retrieves all users from the \"employees\" table.\n"
     ]
    }
   ],
   "source": [
    "#old\n",
    "old_context_user = old_context.copy()\n",
    "print(return_CCRMSQL(\"show all users\", old_context_user))"
   ]
  },
  {
   "cell_type": "code",
   "execution_count": 27,
   "id": "38d8d370-0524-4a28-bd54-5e5cddb08e2c",
   "metadata": {
    "colab": {
     "base_uri": "https://localhost:8080/"
    },
    "id": "38d8d370-0524-4a28-bd54-5e5cddb08e2c",
    "outputId": "2934cdec-bea0-44db-b047-33e70dcf8ae8"
   },
   "outputs": [
    {
     "name": "stdout",
     "output_type": "stream",
     "text": [
      "```sql\n",
      "SELECT customer_id, customer_name, bank_account_balance\n",
      "FROM customers\n",
      "ORDER BY bank_account_balance DESC\n",
      "LIMIT 5;\n",
      "```\n"
     ]
    }
   ],
   "source": [
    "#new\n",
    "print(return_CCRMSQL(\"find customers with highest bank accounts\", context_user))"
   ]
  },
  {
   "cell_type": "code",
   "execution_count": 29,
   "id": "5aa318d4-dd9f-41db-8ff4-c1d87220f766",
   "metadata": {
    "colab": {
     "base_uri": "https://localhost:8080/"
    },
    "id": "5aa318d4-dd9f-41db-8ff4-c1d87220f766",
    "outputId": "605724a1-0d89-4ed9-d8ec-1aeeae6dc287"
   },
   "outputs": [
    {
     "name": "stdout",
     "output_type": "stream",
     "text": [
      "This is your SQL:\n",
      "```sql\n",
      "SELECT ID_usr, MAX(salary) AS highest_salary\n",
      "FROM salary\n",
      "GROUP BY ID_usr\n",
      "ORDER BY highest_salary DESC;\n",
      "```\n",
      "\n",
      "This SQL query selects the `ID_usr` and the maximum `salary` from the `salary` table for each user. It groups the results by `ID_usr`, orders them by the highest salary in descending order, and returns the customers with the highest bank accounts.\n"
     ]
    }
   ],
   "source": [
    "#old\n",
    "print(return_CCRMSQL(\"find customers with highest bank accounts\", old_context_user))"
   ]
  },
  {
   "cell_type": "markdown",
   "id": "0f31968e-74ad-4ae2-9537-b3d550b1be47",
   "metadata": {
    "id": "0f31968e-74ad-4ae2-9537-b3d550b1be47"
   },
   "source": [
    "# Exercise\n",
    " - Complete the prompts similar to what we did in class. \n",
    "     - Try at least 3 versions\n",
    "     - Be creative\n",
    " - Write a one page report summarizing your findings.\n",
    "     - Were there variations that didn't work well? i.e., where GPT either hallucinated or wrong.\n",
    "     - What did you learn?"
   ]
  },
  {
   "cell_type": "code",
   "execution_count": 34,
   "id": "6507e4bb",
   "metadata": {},
   "outputs": [
    {
     "name": "stdout",
     "output_type": "stream",
     "text": [
      "```sql\n",
      "SELECT u.user_id, u.user_name, b.account_type\n",
      "FROM users u\n",
      "JOIN bank_accounts b ON u.user_id = b.user_id\n",
      "GROUP BY u.user_id, b.account_type\n",
      "HAVING COUNT(DISTINCT b.account_type) > 1;\n",
      "```\n"
     ]
    }
   ],
   "source": [
    "#new\n",
    "context_user = context.copy()\n",
    "print(return_CCRMSQL(\"\"\"show all users my multiple types bank accounts in a database \"\"\", context_user))"
   ]
  },
  {
   "cell_type": "code",
   "execution_count": 33,
   "id": "00f8b7df",
   "metadata": {},
   "outputs": [
    {
     "name": "stdout",
     "output_type": "stream",
     "text": [
      "This is your SQL:\n",
      "```sql\n",
      "SELECT * \n",
      "FROM bank_accounts\n",
      "WHERE user_id IN (\n",
      "    SELECT user_id\n",
      "    FROM bank_accounts\n",
      "    GROUP BY user_id\n",
      "    HAVING COUNT(DISTINCT account_type) > 1\n",
      ");\n",
      "```\n",
      "\n",
      "This SQL query retrieves all users who have multiple types of bank accounts in the database. It uses a subquery to first identify the user IDs that have more than one distinct account type, and then selects all the information for those users from the bank_accounts table.\n"
     ]
    }
   ],
   "source": [
    "#old\n",
    "print(return_CCRMSQL(\"\"\"show all users my multiple types bank accounts in a database \"\"\", old_context_user))"
   ]
  },
  {
   "cell_type": "code",
   "execution_count": 35,
   "id": "50abc0ee",
   "metadata": {},
   "outputs": [
    {
     "name": "stdout",
     "output_type": "stream",
     "text": [
      "```sql\n",
      "SELECT user_id, COUNT(*) AS tweet_count\n",
      "FROM Twitter_tweets\n",
      "WHERE YEAR(posted_at) = 2022\n",
      "GROUP BY user_id\n",
      "ORDER BY tweet_count DESC;\n",
      "```\n"
     ]
    }
   ],
   "source": [
    "#new\n",
    "context_user = context.copy()\n",
    "print(return_CCRMSQL(\"\"\"Assume you're given a table Twitter tweet data, write a query to obtain a histogram of tweets posted per user in 2022. \"\"\", context_user))"
   ]
  },
  {
   "cell_type": "code",
   "execution_count": 36,
   "id": "1e851a39",
   "metadata": {},
   "outputs": [
    {
     "name": "stdout",
     "output_type": "stream",
     "text": [
      "This is your SQL:\n",
      "```sql\n",
      "SELECT user_id, COUNT(*) AS tweet_count\n",
      "FROM Twitter_tweets\n",
      "WHERE YEAR(tweet_date) = 2022\n",
      "GROUP BY user_id;\n",
      "```\n",
      "\n",
      "This SQL query selects the user_id and counts the number of tweets posted by each user in the year 2022 from the Twitter_tweets table. It then groups the results by user_id to create a histogram of tweets posted per user in 2022.\n"
     ]
    }
   ],
   "source": [
    "#old\n",
    "print(return_CCRMSQL(\"\"\"Assume you're given a table Twitter tweet data, write a query to obtain a histogram of tweets posted per user in 2022. \"\"\", old_context_user))"
   ]
  },
  {
   "cell_type": "code",
   "execution_count": 41,
   "id": "e223403c",
   "metadata": {},
   "outputs": [
    {
     "name": "stdout",
     "output_type": "stream",
     "text": [
      "This is your SQL:\n",
      "\n",
      "```sql\n",
      "SELECT user_id, SUM(comment_count) / SUM(views) AS comment_to_views_ratio\n",
      "FROM (\n",
      "    SELECT p.user_id, COUNT(c.comment_id) AS comment_count, p.views\n",
      "    FROM posts p\n",
      "    JOIN comments c ON p.post_id = c.post_id\n",
      "    WHERE p.post_date >= DATE_SUB(NOW(), INTERVAL 6 MONTH)\n",
      "    GROUP BY p.post_id\n",
      ") AS subquery\n",
      "GROUP BY user_id\n",
      "ORDER BY comment_to_views_ratio DESC\n",
      "LIMIT 10;\n",
      "```\n",
      "\n",
      "This query first joins the posts and comments tables to calculate the number of comments and views for each post made in the last 6 months. Then, it calculates the ratio of comments to views for each user and selects the top 10 users with the highest ratio, making them the most influential users.\n"
     ]
    }
   ],
   "source": [
    "#old\n",
    "print(return_CCRMSQL(\"\"\"Assume you have a table of user posts on a forum with a posts table (columns: post_id, user_id, post_date, views) and a comments table (columns: comment_id, post_id, user_id, comment_date). Write a query to identify the top 10 most influential users, defined as those whose posts have the highest ratio of comments to views, but only considering posts made in the last 6 months \"\"\", old_context_user))"
   ]
  },
  {
   "cell_type": "code",
   "execution_count": 42,
   "id": "dcde9557",
   "metadata": {},
   "outputs": [
    {
     "name": "stdout",
     "output_type": "stream",
     "text": [
      "```sql\n",
      "WITH recent_posts AS (\n",
      "    SELECT post_id, user_id\n",
      "    FROM posts\n",
      "    WHERE post_date >= DATE('now', '-6 months')\n",
      "),\n",
      "post_comments AS (\n",
      "    SELECT p.user_id, p.post_id, COUNT(c.comment_id) AS num_comments, p.views\n",
      "    FROM recent_posts p\n",
      "    JOIN comments c ON p.post_id = c.post_id\n",
      "    GROUP BY p.user_id, p.post_id\n",
      "),\n",
      "user_influence AS (\n",
      "    SELECT user_id, SUM(num_comments) AS total_comments, SUM(views) AS total_views\n",
      "    FROM post_comments\n",
      "    GROUP BY user_id\n",
      ")\n",
      "SELECT user_id, \n",
      "       CAST(total_comments AS REAL) / total_views AS comments_to_views_ratio\n",
      "FROM user_influence\n",
      "ORDER BY comments_to_views_ratio DESC\n",
      "LIMIT 10;\n",
      "```\n"
     ]
    }
   ],
   "source": [
    "#new\n",
    "context_user = context.copy()\n",
    "print(return_CCRMSQL(\"\"\"Assume you have a table of user posts on a forum with a posts table (columns: post_id, user_id, post_date, views) and a comments table (columns: comment_id, post_id, user_id, comment_date). Write a query to identify the top 10 most influential users, defined as those whose posts have the highest ratio of comments to views, but only considering posts made in the last 6 months \"\"\", context_user))"
   ]
  },
  {
   "cell_type": "markdown",
   "id": "e2454e67",
   "metadata": {},
   "source": [
    "Report SQL query from table names - Continued\n",
    "\n",
    "I created a prompt to test the old and new prompt medthod using a complex and simple query, below is what I have learnt.\n",
    "\n",
    "I learnt that the Open Ai - 3.5 is very good at generating queries accuratly, I did a comparision with the simple 'shall all users' query and discovered that they new and old prompt model gave similar outputs that could generate accurate results.\n",
    "\n",
    "#new \n",
    "context_user = context.copy()\n",
    "print(return_CCRMSQL(\"\"\"show all users\"\"\", context_user)) \n",
    "returns =\n",
    "SELECT * FROM users;    \n",
    "\n",
    "#old\n",
    "old_context_user = old_context.copy()\n",
    "print(return_CCRMSQL(\"show all users\", old_context_user))\n",
    "returns =\n",
    "SELECT * FROM employees;\n",
    "\n",
    "However , the old prompt seems to halucinate while because it created employees indead of users.\n",
    "\n",
    "Also when more complex queries where supplied in the next prompts I saw that i got different returns with different decree of efficeincy example given below \n",
    "\n",
    "Example : \n",
    "#old\n",
    "print(return_CCRMSQL(\"\"\"Assume you have a table of user posts on a forum with a posts table (columns: post_id, user_id, post_date, views) and a comments table (columns: comment_id, post_id, user_id, comment_date). Write a query to identify the top 10 most influential users, defined as those whose posts have the highest ratio of comments to views, but only considering posts made in the last 6 months \"\"\", old_context_user))\n",
    "\n",
    "This is your SQL:\n",
    "\n",
    "```sql\n",
    "SELECT user_id, SUM(comment_count) / SUM(views) AS comment_to_views_ratio\n",
    "FROM (\n",
    "    SELECT p.user_id, COUNT(c.comment_id) AS comment_count, p.views\n",
    "    FROM posts p\n",
    "    JOIN comments c ON p.post_id = c.post_id\n",
    "    WHERE p.post_date >= DATE_SUB(NOW(), INTERVAL 6 MONTH)\n",
    "    GROUP BY p.post_id\n",
    ") AS subquery\n",
    "GROUP BY user_id\n",
    "ORDER BY comment_to_views_ratio DESC\n",
    "LIMIT 10;\n",
    "```\n",
    "\n",
    "\n",
    "#new\n",
    "context_user = context.copy()\n",
    "print(return_CCRMSQL(\"\"\"Assume you have a table of user posts on a forum with a posts table (columns: post_id, user_id, post_date, views) and a comments table (columns: comment_id, post_id, user_id, comment_date). Write a query to identify the top 10 most influential users, defined as those whose posts have the highest ratio of comments to views, but only considering posts made in the last 6 months \"\"\", context_user))\n",
    "\n",
    "```sql\n",
    "WITH recent_posts AS (\n",
    "    SELECT post_id, user_id\n",
    "    FROM posts\n",
    "    WHERE post_date >= DATE('now', '-6 months')\n",
    "),\n",
    "post_comments AS (\n",
    "    SELECT p.user_id, p.post_id, COUNT(c.comment_id) AS num_comments, p.views\n",
    "    FROM recent_posts p\n",
    "    JOIN comments c ON p.post_id = c.post_id\n",
    "    GROUP BY p.user_id, p.post_id\n",
    "),\n",
    "user_influence AS (\n",
    "    SELECT user_id, SUM(num_comments) AS total_comments, SUM(views) AS total_views\n",
    "    FROM post_comments\n",
    "    GROUP BY user_id\n",
    ")\n",
    "SELECT user_id, \n",
    "       CAST(total_comments AS REAL) / total_views AS comments_to_views_ratio\n",
    "FROM user_influence\n",
    "ORDER BY comments_to_views_ratio DESC\n",
    "LIMIT 10;\n",
    "```\n",
    "Old Prompt :\n",
    "The logic is akk in one big block.\n",
    "This could be hard to read and as the code get more complex.\n",
    "\n",
    "New Prompt :\n",
    "The logic is broken down into smaller named steps.\n",
    "This makes the code mush easier to read and understan whihc is considered a bext practice."
   ]
  }
 ],
 "metadata": {
  "colab": {
   "include_colab_link": true,
   "provenance": []
  },
  "kernelspec": {
   "display_name": "Iron_hack_2_backup",
   "language": "python",
   "name": "python3"
  },
  "language_info": {
   "codemirror_mode": {
    "name": "ipython",
    "version": 3
   },
   "file_extension": ".py",
   "mimetype": "text/x-python",
   "name": "python",
   "nbconvert_exporter": "python",
   "pygments_lexer": "ipython3",
   "version": "3.10.18"
  }
 },
 "nbformat": 4,
 "nbformat_minor": 5
}
